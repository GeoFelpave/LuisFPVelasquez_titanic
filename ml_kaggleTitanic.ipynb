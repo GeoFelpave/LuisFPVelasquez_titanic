{
  "nbformat": 4,
  "nbformat_minor": 0,
  "metadata": {
    "colab": {
      "name": "ml_kaggleTitanic.ipynb",
      "provenance": [],
      "authorship_tag": "ABX9TyPKKHXH/GCdiHVzeBcCm0oy"
    },
    "kernelspec": {
      "name": "python3",
      "display_name": "Python 3"
    }
  },
  "cells": [
    {
      "cell_type": "code",
      "metadata": {
        "id": "o8d81zwW0ONa"
      },
      "source": [
        "# -*- coding: utf-8 -*-\r\n",
        "\"\"\"==============================================================================\r\n",
        "\r\n",
        " Title          :\r\n",
        " Description    :\r\n",
        " Author         :LF Velasquez - MA\r\n",
        " Date           :\r\n",
        " Version        :\r\n",
        " Usage          :\r\n",
        " Notes          : Technical -> Fix the date to right format, get rid of TBC and other \r\n",
        "                  in the site code field\r\n",
        "                  Change the month in line 241\r\n",
        " python version :\r\n",
        "\r\n",
        "==============================================================================\"\"\""
      ],
      "execution_count": null,
      "outputs": []
    }
  ]
}